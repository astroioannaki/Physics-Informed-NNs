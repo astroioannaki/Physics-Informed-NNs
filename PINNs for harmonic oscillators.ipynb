{
 "cells": [
  {
   "cell_type": "markdown",
   "id": "0e16d484",
   "metadata": {},
   "source": [
    "## PINNs - Physics-Informed Neural Networks for harmonic oscillators\n",
    "\n",
    "In this notebook we will implement two harmonic oscillation PINNs, for all cases: (1) underdamped, (2) critically damped and (3) overdamped.\n",
    "\n",
    "---\n",
    "\n",
    "The following blog posts/articles were particularly useful:\n",
    "- Lagaris, I. E., et al., \"Artificial neural networks for solving ordinary and partial differential equations\", 1998.\n",
    "- Raissi, M., et al., \"Physics-informed neural networks: A deep learning framework for solving forward and inverse problems involving nonlinear partial differential equations\", 2019.\n",
    "- Moseley B., \"So what is a Physics-Informed Neural Network?\", 2021.\n",
    "- beltoforion.de, \"Damped Harmonic Oscillator\".\n",
    "\n",
    "***\n",
    "\n",
    "In harmonic oscillators, the constants $\\delta$ and $\\omega_0$ are widely used for simplification and represent a combination of other constants that describe the system, namely: $ \\delta = \\dfrac{\\mu}{2m} $ and $ \\omega_0 = \\sqrt{\\dfrac{k}{m}} $, where $\\mu$ is the coefficient of friction, $m$ is the mass of the oscillator and $k$ denotes the spring constant.\n",
    "\n",
    "As the inertial force is opposed by the friction and the spring's restoring force (Hooke's law), the equation of motion for such a dynamic system can be expressed as `inertial force = - friction - restoring force`, or equivalently:\n",
    "\n",
    "$$ m\\ddot{x} = -\\mu\\dot{x} - kx $$\n",
    "\n",
    "$$ or $$\n",
    "\n",
    "$$ \\ddot{x} + \\dfrac{\\mu}{m}\\dot{x} + \\dfrac{k}{m}x = 0 \\ \\ \\ \\ \\ \\ (1)$$\n",
    "\n",
    "The assumption is that the solution of the differential equation that describes such system, is exponential. Therefore, the exponential ansatz of a solution to the differential equation of this system, can be formulated as:\n",
    "\n",
    "$$ x(t) = Ce^{\\lambda t} $$\n",
    "\n",
    "Calculating the first and second derivatives:\n",
    "\n",
    "$$ \\dot{x}(t) = \\lambda C e^{\\lambda t} \\ \\ and \\ \\  \\ddot{x}(t) = \\lambda^2 C e^{\\lambda t} $$\n",
    "\n",
    "Plugging these into (1), we can obtain the characteristic equation:\n",
    "\n",
    "$$ \\lambda^2Ce^{\\lambda t} + \\dfrac{\\mu}{m}\\lambda Ce^{\\lambda t} + \\dfrac{k}{m} Ce^{\\lambda t} = 0 $$\n",
    "\n",
    "which can be simplified to:\n",
    "\n",
    "$$ \\lambda^2 + \\dfrac{\\mu}{m}\\lambda + \\dfrac{k}{m} = 0 $$\n",
    "\n",
    "Solving for $ \\lambda_{1,2} $ and using the $\\delta$ and $\\omega_0$ constants:\n",
    "\n",
    "$$ \\lambda_{1,2} = -\\delta \\pm \\sqrt{\\delta^2 - \\omega_{0}^2} $$"
   ]
  },
  {
   "cell_type": "markdown",
   "id": "eab3df23",
   "metadata": {},
   "source": [
    "### Underdamped case\n",
    "\n",
    "The underdamped case describes a harmonic oscillation with $ \\delta < \\omega_0 $.\n",
    "The solution for the differential equation (DE) in the underdamped case is:\n",
    "\n",
    "$ x(t) = e^{-\\delta t} (2A\\cos(\\phi+\\omega t)) \\ \\ $,  with $ \\omega = \\sqrt{\\omega_{0}^2 - \\delta^2} $.\n",
    "\n",
    "Where $A$ describes the amplitude and $\\phi$ the phase angle (see [here](https://beltoforion.de/en/harmonic_oscillator/) for a detailed solution of the DE).\n",
    "\n",
    "For this case, we consider the material/geometry parameters $\\delta = 2$ and $\\omega_0=20$, and try to learn the solution for the range $x \\in [0,1]$."
   ]
  },
  {
   "cell_type": "code",
   "execution_count": 1,
   "id": "bd23f52c",
   "metadata": {},
   "outputs": [],
   "source": [
    "import torch\n",
    "import torch.nn as nn\n",
    "import numpy as np\n",
    "import matplotlib.pyplot as plt\n",
    "from PIL import Image"
   ]
  },
  {
   "cell_type": "code",
   "execution_count": 2,
   "id": "69202ae5",
   "metadata": {},
   "outputs": [],
   "source": [
    "def UD_oscillator(d, w0, x):\n",
    "    \"\"\"Defines the analytical solution to the 1D underdamped harmonic oscillator problem. \n",
    "    Equations from: https://beltoforion.de/en/harmonic_oscillator/\"\"\"\n",
    "    assert d < w0\n",
    "    w = np.sqrt(w0**2-d**2)  #omega\n",
    "    phi = np.arctan(-d/w)    #phi - phase angle\n",
    "    A = 1/(2*np.cos(phi))    #A - amplitude\n",
    "    cos = torch.cos(phi+w*x) #cos(phi+omega*t)\n",
    "    sin = torch.sin(phi+w*x) #sin(phi+omega*t)\n",
    "    exp = torch.exp(-d*x)    #exp(-delta*t)\n",
    "    y  = exp*2*A*cos         #y - exact solution\n",
    "    \n",
    "    return y\n",
    "\n",
    "def plot_result(epoch,x,y,x_data,y_data,yh,xp=None):\n",
    "    \"Pretty plot for training results\"\n",
    "    plt.figure(figsize=(8,4))\n",
    "    plt.plot(x,y, color=\"grey\", linewidth=2, alpha=0.8, label=\"Exact solution\")\n",
    "    plt.plot(x,yh, color=\"tab:blue\", linewidth=4, alpha=0.8, label=\"Neural network prediction\")\n",
    "    plt.scatter(x_data, y_data, s=60, color=\"tab:orange\", alpha=0.4, label='Training data')\n",
    "    if xp is not None:\n",
    "        plt.scatter(xp, -0*torch.ones_like(xp), s=60, color=\"tab:green\", alpha=0.4, \n",
    "                    label='Physics loss training locations')\n",
    "    l = plt.legend(loc=(1.01,0.34), frameon=False, fontsize=\"large\")\n",
    "    plt.setp(l.get_texts(), color=\"k\")\n",
    "    plt.xlim(-0.05, 1.05)\n",
    "    plt.ylim(-1.1, 1.1)\n",
    "    plt.text(1.065,0.7,\"Training step: %i\"%(epoch),fontsize=\"xx-large\",color=\"k\")\n",
    "    plt.axis(\"off\")\n",
    "    \n",
    "class FCN(nn.Module):\n",
    "    \"Defines a fully connected network\"\n",
    "    \n",
    "    def __init__(self, n_in, n_out, n_hidden, n_layers):\n",
    "        super().__init__()\n",
    "        activation = nn.Tanh\n",
    "        self.fcs = nn.Sequential(*[\n",
    "                        nn.Linear(n_in, n_hidden),\n",
    "                        activation()])\n",
    "        self.fch = nn.Sequential(*[\n",
    "                        nn.Sequential(*[\n",
    "                            nn.Linear(n_hidden, n_hidden),\n",
    "                            activation()]) for _ in range(n_layers-1)])\n",
    "        self.fce = nn.Linear(n_hidden, n_out)\n",
    "        \n",
    "    def forward(self, x):\n",
    "        x = self.fcs(x)\n",
    "        x = self.fch(x)\n",
    "        x = self.fce(x)\n",
    "        return x\n",
    "\n",
    "def save_gif_PIL(outfile, files, fps=5, loop=0):\n",
    "    \"Helper function for saving GIFs\"\n",
    "    imgs = [Image.open(file) for file in files]\n",
    "    imgs[0].save(fp=outfile, format='GIF', append_images=imgs[1:], save_all=True, duration=int(1000/fps), loop=loop)"
   ]
  },
  {
   "cell_type": "markdown",
   "id": "51afe369",
   "metadata": {},
   "source": [
    "Let's start by generating the data:"
   ]
  },
  {
   "cell_type": "code",
   "execution_count": 3,
   "id": "cbd89dc7",
   "metadata": {},
   "outputs": [
    {
     "data": {
      "image/png": "[encoded data removed]",
      "text/plain": [
       "<Figure size 432x288 with 1 Axes>"
      ]
     },
     "metadata": {
      "needs_background": "light"
     },
     "output_type": "display_data"
    }
   ],
   "source": [
    "# initialize material/geometry parameters\n",
    "d, w0 = 2, 20\n",
    "\n",
    "#analytical solution over the full domain\n",
    "x = torch.linspace(0,1,500).view(-1,1)\n",
    "y = UD_oscillator(d, w0, x).view(-1,1)\n",
    "\n",
    "# slice out a small number of points \n",
    "# that will serve as training data\n",
    "x_data = x[0:100:20]\n",
    "y_data = y[0:100:20]\n",
    "\n",
    "plt.figure()\n",
    "plt.plot(x, y, label=\"Exact solution\")\n",
    "plt.scatter(x_data, y_data, color=\"tab:orange\", label=\"Training data\")\n",
    "plt.title(\"Generated training data\")\n",
    "plt.xlabel(\"x\")\n",
    "plt.ylabel(\"y\")\n",
    "plt.legend()\n",
    "plt.show()"
   ]
  },
  {
   "cell_type": "markdown",
   "id": "5e5f956b",
   "metadata": {},
   "source": [
    "#### Vanilla FCN\n",
    "First let's try fitting the data using a vanilla fully-connected network:"
   ]
  },
  {
   "cell_type": "code",
   "execution_count": 4,
   "id": "d6ef3e84",
   "metadata": {},
   "outputs": [],
   "source": [
    "torch.manual_seed(123)\n",
    "model = FCN(1,1,32,3) # (n_in, n_out, n_hidden, n_layers)\n",
    "optimizer = torch.optim.Adam(model.parameters(),lr=1e-3)\n",
    "epochs = range(1, 1001)\n",
    "losses = []\n",
    "files = []\n",
    "\n",
    "for epoch in epochs:\n",
    "    optimizer.zero_grad()\n",
    "    yh = model(x_data)\n",
    "    loss = torch.mean((yh-y_data)**2)# MSE\n",
    "    loss.backward()\n",
    "    optimizer.step()\n",
    "    losses.append(loss) # keep track of loss in each epoch\n",
    "        \n",
    "    # plot results during training\n",
    "    if (epoch) % 10 == 0: # every 10 epochs\n",
    "        \n",
    "        yh = model(x).detach()\n",
    "        \n",
    "        plot_result(epoch,x,y,x_data,y_data,yh)\n",
    "        \n",
    "        file = \"./PINNplots/\"+str(epoch)+\".png\"\n",
    "        plt.savefig(file, bbox_inches='tight', pad_inches=0.1, dpi=100, facecolor=\"white\")\n",
    "        files.append(file)\n",
    "        \n",
    "        #show plot every 500 epochs:\n",
    "        #if (epoch) % 500 == 0: plt.show() \n",
    "        #else: plt.close(\"all\")\n",
    "        \n",
    "        plt.close(\"all\")    \n",
    "            \n",
    "save_gif_PIL(\"ud_nn.gif\", files, fps=20, loop=0) # save gif"
   ]
  },
  {
   "cell_type": "markdown",
   "id": "42b375fe",
   "metadata": {},
   "source": [
    "![SegmentLocal](ud_nn.gif \"gif\")"
   ]
  },
  {
   "cell_type": "markdown",
   "id": "213c5888",
   "metadata": {},
   "source": [
    "Due to the fact that the training sample represents only a limited region of the full domain, the network is unable to capture the behavior of the system outside that limited region."
   ]
  },
  {
   "cell_type": "markdown",
   "id": "d4c09359",
   "metadata": {},
   "source": [
    "#### PINN\n",
    "\n",
    "With a PINN we can incorporate our prior knowledge on the harmonic behavior of this dynamic system. This can be achieved by adding the underlying DE to loss function of the network. This way, the data loss aims to minimize the error in relation to the training sample available, while the 'physics loss' ensures that the learned solution is consistent with the underlying DE, by penalising the residual of the DE over a set of locations sampled from the full domain. In this case, we evaluate the physics loss over a uniform 30-point grid over the full domain ([0,1])."
   ]
  },
  {
   "cell_type": "code",
   "execution_count": 5,
   "id": "8a151c3c",
   "metadata": {},
   "outputs": [],
   "source": [
    "# sample 30 uniformly spaced points\n",
    "x_physics = torch.linspace(0,1,30).view(-1,1).requires_grad_(True)\n",
    "\n",
    "mu, k = 2*d, w0**2\n",
    "\n",
    "torch.manual_seed(123)\n",
    "model = FCN(1,1,32,3)\n",
    "epochs = range(1, 20001)\n",
    "losses = []\n",
    "losses_data = []\n",
    "losses_physics = []\n",
    "optimizer = torch.optim.Adam(model.parameters(),lr=1e-4)\n",
    "files = []"
   ]
  },
  {
   "cell_type": "code",
   "execution_count": 6,
   "id": "41a57554",
   "metadata": {},
   "outputs": [],
   "source": [
    "for epoch in epochs:\n",
    "    optimizer.zero_grad()\n",
    "    \n",
    "    # Data loss\n",
    "    yh = model(x_data)\n",
    "    loss_data = torch.mean((yh-y_data)**2) # MSE\n",
    "    \n",
    "    # Physics loss\n",
    "    yh_physics = model(x_physics)\n",
    "    \n",
    "    # calculate first and second derivatives\n",
    "    # dy/dx\n",
    "    dx  = torch.autograd.grad(yh_physics, x_physics, torch.ones_like(yh_physics), create_graph=True)[0]\n",
    "    \n",
    "    # d^2y/dx^2\n",
    "    dx2 = torch.autograd.grad(dx, x_physics, torch.ones_like(dx),  create_graph=True)[0]\n",
    "    \n",
    "    # computes the residual of the harmonic oscillator differential equation\n",
    "    physics = dx2 + mu*dx + k*yh_physics\n",
    "    loss_physics = (1e-4)*torch.mean(physics**2)\n",
    "    \n",
    "    # backpropagate joint loss\n",
    "    loss = loss_data + loss_physics# add two loss terms together\n",
    "    losses.append(loss)\n",
    "    losses_data.append(loss_data)\n",
    "    losses_physics.append(loss_physics)\n",
    "    loss.backward()\n",
    "    optimizer.step()\n",
    "    \n",
    "    \n",
    "    # plot the result as training progresses\n",
    "    if epoch % 150 == 0: \n",
    "        \n",
    "        yh = model(x).detach()\n",
    "        xp = x_physics.detach()\n",
    "        \n",
    "        plot_result(epoch,x,y,x_data,y_data,yh,xp)\n",
    "        \n",
    "        file = \"./PINNplots/\"+str(epoch)+\".png\"\n",
    "        plt.savefig(file, bbox_inches='tight', pad_inches=0.1, dpi=100, facecolor=\"white\")\n",
    "        files.append(file)\n",
    "        \n",
    "        #if epoch % 6000 == 0: plt.show()\n",
    "        #else: plt.close(\"all\")\n",
    "        plt.close(\"all\")\n",
    "            \n",
    "save_gif_PIL(\"ud_pinn.gif\", files, fps=20, loop=0)"
   ]
  },
  {
   "cell_type": "markdown",
   "id": "226eda0e",
   "metadata": {},
   "source": [
    "![SegmentLocal](ud_pinn.gif \"gif\")"
   ]
  },
  {
   "cell_type": "markdown",
   "id": "2a138382",
   "metadata": {},
   "source": [
    "We can see that the PINN aims to ensure that our solution fits well over the full domain, and not only the limited region that the available data might represent."
   ]
  },
  {
   "cell_type": "code",
   "execution_count": 7,
   "id": "59274792",
   "metadata": {
    "scrolled": false
   },
   "outputs": [
    {
     "data": {
      "image/png": "[encoded data removed]",
      "text/plain": [
       "<Figure size 432x288 with 1 Axes>"
      ]
     },
     "metadata": {
      "needs_background": "light"
     },
     "output_type": "display_data"
    }
   ],
   "source": [
    "# plot the losses\n",
    "\n",
    "losses_np = []\n",
    "losses_data_np = []\n",
    "losses_physics_np = []\n",
    "\n",
    "for i in range(len(losses)):\n",
    "    losses_np.append(losses[i].item())\n",
    "    losses_data_np.append(losses_data[i].item())\n",
    "    losses_physics_np.append(losses_physics[i].item())\n",
    "\n",
    "plt.plot(losses_np, label='Combined loss')\n",
    "plt.plot(losses_data_np, label='Data loss')\n",
    "plt.plot(losses_physics_np, label='Physics loss')\n",
    "plt.title(\"Losses over epochs\")\n",
    "plt.xlabel(\"Epoch\")\n",
    "plt.ylabel(\"Loss value\")\n",
    "plt.legend()\n",
    "plt.show()"
   ]
  },
  {
   "cell_type": "markdown",
   "id": "cc762fe4",
   "metadata": {},
   "source": [
    "### Critically damped case\n",
    "\n",
    "Now let's extend this solution to the critically damped case. Contrary to the underdamped setting, in the critically damped case we have $ \\delta = \\omega_0 $. The analytical solution for the critically damped case DE is:\n",
    "\n",
    "$$ x(t) = e^{-\\delta t} (C_1e +t \\ C_2) $$\n",
    "\n",
    "where $C_{1,2}$ are integration constants that can be determined from the given initial conditions (see [here](https://beltoforion.de/en/harmonic_oscillator/) for a detailed solution of the DE).\n",
    "\n",
    "For this case, we consider the material/geometry parameters $\\delta = 20$ and $\\omega_0=20$, and try to learn the solution for the range $x \\in [0,1]$. In addition, we assume the initial conditions $x_0 = 0$ and $v_0 = 2$ in order to calculate c1 and c2.\n",
    "\n",
    "In the critically damped and overdamped cases, c1 and c2 are calculated by solving the equation system of $x(t)$ and $v(t) = \\dot{x}(t)$ for the initial conditions for starting position $x_0$ and starting velocity $v_0$."
   ]
  },
  {
   "cell_type": "code",
   "execution_count": 8,
   "id": "3e6931ea",
   "metadata": {},
   "outputs": [],
   "source": [
    "def CD_oscillator(d, w0, x, x0, v0):\n",
    "    \"\"\"Defines the analytical solution to the 1D critically damped harmonic oscillator problem. \n",
    "    Equations from: https://beltoforion.de/en/harmonic_oscillator/\"\"\"\n",
    "    assert d == w0\n",
    "    \n",
    "    c1 = x0               # c1,2 are computed using the predefined\n",
    "    c2 = v0 + (d*x0)      # initial conditions x0 and v0\n",
    "    summ = (c1 + x*c2)    # c1 + t*c2\n",
    "    exp = torch.exp(-d*x) # exp(-d*t)\n",
    "    y = exp*summ          # y - exact solution\n",
    "    \n",
    "    return y\n",
    "\n",
    "# plot_result redefined with different x,y limits and text position\n",
    "def plot_result(epoch,x,y,x_data,y_data,yh,xp=None):\n",
    "    \"Pretty plot for training results\"\n",
    "    plt.figure(figsize=(8,4))\n",
    "    plt.plot(x,y, color=\"grey\", linewidth=2, alpha=0.8, label=\"Exact solution\")\n",
    "    plt.plot(x,yh, color=\"tab:blue\", linewidth=4, alpha=0.8, label=\"Neural network prediction\")\n",
    "    plt.scatter(x_data, y_data, s=60, color=\"tab:orange\", alpha=0.4, label='Training data')\n",
    "    if xp is not None:\n",
    "        plt.scatter(xp, -0*torch.ones_like(xp), s=60, color=\"tab:green\", alpha=0.4, \n",
    "                    label='Physics loss training locations')\n",
    "    l = plt.legend(loc=(1.01,0.34), frameon=False, fontsize=\"large\")\n",
    "    plt.setp(l.get_texts(), color=\"k\")\n",
    "    plt.xlim(-0.05, 1.05)\n",
    "    plt.ylim(-0.05, 0.05)\n",
    "    plt.text(1.065, 0.1,\"Training step: %i\"%(epoch),fontsize=\"xx-large\",color=\"k\")\n",
    "    plt.axis(\"off\")"
   ]
  },
  {
   "cell_type": "markdown",
   "id": "71ffcbd4",
   "metadata": {},
   "source": [
    "Let's start by generating the data:"
   ]
  },
  {
   "cell_type": "code",
   "execution_count": 9,
   "id": "9dda5529",
   "metadata": {
    "scrolled": true
   },
   "outputs": [
    {
     "data": {
      "image/png": "[encoded data removed]",
      "text/plain": [
       "<Figure size 432x288 with 1 Axes>"
      ]
     },
     "metadata": {
      "needs_background": "light"
     },
     "output_type": "display_data"
    }
   ],
   "source": [
    "# initial conditions\n",
    "x0, v0 = 0, 2 #starting position/velocity\n",
    "\n",
    "# initialize material/geometry parameters\n",
    "d = w0 = 20\n",
    "\n",
    "#analytical solution over the full domain\n",
    "x = torch.linspace(0,1,500).view(-1,1)\n",
    "y = CD_oscillator(d, w0, x, x0, v0).view(-1,1)\n",
    "\n",
    "# slice out a small number of points \n",
    "#that will serve as training data\n",
    "x_data = x[0:25:5]\n",
    "y_data = y[0:25:5]\n",
    "\n",
    "plt.figure()\n",
    "plt.plot(x, y, label=\"Exact solution\")\n",
    "plt.scatter(x_data, y_data, color=\"tab:orange\", label=\"Training data\")\n",
    "plt.title(\"Generated training data\")\n",
    "plt.xlabel(\"x\")\n",
    "plt.ylabel(\"y\")\n",
    "plt.legend()\n",
    "plt.show()"
   ]
  },
  {
   "cell_type": "markdown",
   "id": "a3c72f7e",
   "metadata": {},
   "source": [
    "#### FCN\n",
    "Fitting the FCN for the critically damped case:"
   ]
  },
  {
   "cell_type": "code",
   "execution_count": 10,
   "id": "f5d5afb0",
   "metadata": {},
   "outputs": [],
   "source": [
    "torch.manual_seed(123)\n",
    "model = FCN(1,1,18,3) # (n_in, n_out, n_hidden, n_layers)\n",
    "optimizer = torch.optim.Adam(model.parameters(),lr=5e-3)\n",
    "epochs = range(1, 801)\n",
    "losses = []\n",
    "files = []\n",
    "\n",
    "for epoch in epochs:\n",
    "    optimizer.zero_grad()\n",
    "    yh = model(x_data)\n",
    "    loss = torch.mean((yh-y_data)**2)# MSE\n",
    "    loss.backward()\n",
    "    optimizer.step()\n",
    "    losses.append(loss)\n",
    "        \n",
    "    # plot results during training\n",
    "    if (epoch) % 10 == 0: # every 10 epochs\n",
    "        \n",
    "        yh = model(x).detach()\n",
    "        \n",
    "        plot_result(epoch,x,y,x_data,y_data,yh)\n",
    "        \n",
    "        file = \"./PINNplots/\"+str(epoch)+\".png\"\n",
    "        plt.savefig(file, bbox_inches='tight', pad_inches=0.1, dpi=100, facecolor=\"white\")\n",
    "        files.append(file)\n",
    "        \n",
    "        #show plot every 500 epochs:\n",
    "        #if (epoch) % 500 == 0: plt.show() \n",
    "        #else: plt.close(\"all\")\n",
    "        plt.close(\"all\")    \n",
    "            \n",
    "save_gif_PIL(\"cd_nn.gif\", files, fps=20, loop=0)"
   ]
  },
  {
   "cell_type": "markdown",
   "id": "2fa84736",
   "metadata": {},
   "source": [
    "![SegmentLocal](cd_nn.gif \"gif\")"
   ]
  },
  {
   "cell_type": "markdown",
   "id": "b1af8047",
   "metadata": {},
   "source": [
    "#### PINN\n",
    "Fitting a PINN for the critically damped case:"
   ]
  },
  {
   "cell_type": "code",
   "execution_count": 11,
   "id": "97e8c1a2",
   "metadata": {},
   "outputs": [],
   "source": [
    "# sample 30 uniformly spaced points\n",
    "x_physics = torch.linspace(0,1,30).view(-1,1).requires_grad_(True)\n",
    "\n",
    "mu, k = 2*d, w0**2\n",
    "\n",
    "torch.manual_seed(123)\n",
    "model = FCN(1,1,15,3)\n",
    "epochs = range(1, 20001)\n",
    "losses = []\n",
    "losses_data = []\n",
    "losses_physics = []\n",
    "optimizer = torch.optim.Adam(model.parameters(),lr=5e-4)\n",
    "files = []"
   ]
  },
  {
   "cell_type": "code",
   "execution_count": 12,
   "id": "1bdf5eff",
   "metadata": {},
   "outputs": [],
   "source": [
    "for epoch in epochs:\n",
    "    optimizer.zero_grad()\n",
    "    \n",
    "    # Data loss\n",
    "    yh = model(x_data)\n",
    "    loss_data = torch.mean((yh-y_data)**2) # MSE\n",
    "    \n",
    "    # Physics loss\n",
    "    yh_physics = model(x_physics)\n",
    "    \n",
    "    # calculate first and second derivatives\n",
    "    # dy/dx\n",
    "    dx  = torch.autograd.grad(yh_physics, x_physics, torch.ones_like(yh_physics), create_graph=True)[0]\n",
    "    \n",
    "    # d^2y/dx^2\n",
    "    dx2 = torch.autograd.grad(dx, x_physics, torch.ones_like(dx), create_graph=True)[0]\n",
    "    \n",
    "    # computes the residual of the harmonic oscillator differential equation\n",
    "    physics = dx2 + mu*dx + k*yh_physics # from (1) (beltoforion.de)\n",
    "    loss_physics = (1e-5)*torch.mean(physics**2)\n",
    "    \n",
    "    # backpropagate joint loss\n",
    "    loss = loss_data + loss_physics # add two loss terms together\n",
    "    loss.backward()\n",
    "    optimizer.step()\n",
    "    losses.append(loss)\n",
    "    losses_data.append(loss_data)\n",
    "    losses_physics.append(loss_physics)\n",
    "    \n",
    "    \n",
    "    # plot the result as training progresses\n",
    "    if epoch % 150 == 0: \n",
    "        \n",
    "        yh = model(x).detach()\n",
    "        xp = x_physics.detach()\n",
    "        \n",
    "        plot_result(epoch,x,y,x_data,y_data,yh,xp)\n",
    "        \n",
    "        file = \"./PINNplots/\"+str(epoch)+\".png\"\n",
    "        plt.savefig(file, bbox_inches='tight', pad_inches=0.1, dpi=100, facecolor=\"white\")\n",
    "        files.append(file)\n",
    "        \n",
    "        #if epoch % 6000 == 0: plt.show()\n",
    "        #else: plt.close(\"all\")\n",
    "        plt.close(\"all\")\n",
    "            \n",
    "save_gif_PIL(\"cd_pinn.gif\", files, fps=20, loop=0)"
   ]
  },
  {
   "cell_type": "markdown",
   "id": "e719df8d",
   "metadata": {},
   "source": [
    "![SegmentLocal](cd_pinn.gif \"gif\")"
   ]
  },
  {
   "cell_type": "markdown",
   "id": "3498b0f1",
   "metadata": {},
   "source": [
    "### Overdamped case\n",
    "\n",
    "Finally, in the overdamped case we have $ \\delta > \\omega_0 $. The analytical solution for the overdamped case DE is:\n",
    "\n",
    "$ x(t) = e^{-\\delta t} (C_1 \\ e^{\\alpha t} \\ + \\ C_2 \\ e^{-\\alpha t}) $, with $ \\alpha = \\sqrt{\\delta^2 - \\omega_{0}^2} $\n",
    "\n",
    "where $C_{1,2}$ are integration constants that can be determined from the given initial conditions (see [here](https://beltoforion.de/en/harmonic_oscillator/) for a detailed solution of the DE).\n",
    "\n",
    "For this case, we consider the material/geometry parameters $\\delta = 20$ and $\\omega_0=1$, and try to learn the solution for the range $x \\in [0,1]$. In addition, we assume the initial conditions $x_0 = 0$ and $v_0 = 2$ in order to calculate c1 and c2."
   ]
  },
  {
   "cell_type": "code",
   "execution_count": 13,
   "id": "7b311a91",
   "metadata": {},
   "outputs": [],
   "source": [
    "def OD_oscillator(d, w0, x, x0, v0):\n",
    "    \"\"\"Defines the analytical solution to the 1D overdamped harmonic oscillator problem. \n",
    "    Equations from: https://beltoforion.de/en/harmonic_oscillator/\"\"\"\n",
    "    assert d > w0\n",
    "    \n",
    "    a = np.sqrt(d**2-w0**2)    # a\n",
    "    c1 = (x0*(a+d)+v0)/(2*a)   # c1,2 computed using the predefined\n",
    "    c2 = -c1                   # initial conditions x0 and v0\n",
    "    exp1 = torch.exp(a*x)      # exp(a*t)\n",
    "    exp2 = torch.exp(-a*x)     # exp(-a*t)\n",
    "    summ = (c1*exp1)+(c2*exp2) # c1*exp(a*t)+c2*exp(-a*t)\n",
    "    exp3 = torch.exp(-d*x)     # exp(-d*t) \n",
    "    y = exp3*summ              # y - exact solution\n",
    "    \n",
    "    return y\n",
    "\n",
    "# plot_result redefined with different x,y limits and text position\n",
    "def plot_result(epoch,x,y,x_data,y_data,yh,xp=None):\n",
    "    \"Pretty plot for training results\"\n",
    "    plt.figure(figsize=(8,4))\n",
    "    plt.plot(x,y, color=\"grey\", linewidth=2, alpha=0.8, label=\"Exact solution\")\n",
    "    plt.plot(x,yh, color=\"tab:blue\", linewidth=4, alpha=0.8, label=\"Neural network prediction\")\n",
    "    plt.scatter(x_data, y_data, s=60, color=\"tab:orange\", alpha=0.4, label='Training data')\n",
    "    if xp is not None:\n",
    "        plt.scatter(xp, -0*torch.ones_like(xp), s=60, color=\"tab:green\", alpha=0.4, \n",
    "                    label='Physics loss training locations')\n",
    "    l = plt.legend(loc=(1.01,0.34), frameon=False, fontsize=\"large\")\n",
    "    plt.setp(l.get_texts(), color=\"k\")\n",
    "    plt.xlim(-0.05, 1.05)\n",
    "    plt.ylim(-0.05, 0.05)\n",
    "    plt.text(1.065, 0.1,\"Training step: %i\"%(epoch),fontsize=\"xx-large\",color=\"k\")\n",
    "    plt.axis(\"off\")"
   ]
  },
  {
   "cell_type": "markdown",
   "id": "f7ecc601",
   "metadata": {},
   "source": [
    "Let's start by generating the data - Note that the critically damped and overdamped cases can be easily fitted with non-physics-informed NNs, therefore for this example we select a particularly limited range to be represented with the training data, so that we see the effect of the physics loss in action."
   ]
  },
  {
   "cell_type": "code",
   "execution_count": 14,
   "id": "b225e28e",
   "metadata": {},
   "outputs": [
    {
     "data": {
      "image/png": "[encoded data removed]",
      "text/plain": [
       "<Figure size 432x288 with 1 Axes>"
      ]
     },
     "metadata": {
      "needs_background": "light"
     },
     "output_type": "display_data"
    }
   ],
   "source": [
    "# initial conditions\n",
    "x0, v0 = 0, 2 #starting position/velocity\n",
    "\n",
    "# initialize material/geometry parameters\n",
    "d, w0 = 20, 1\n",
    "\n",
    "#analytical solution over the full domain\n",
    "x = torch.linspace(0,1,500).view(-1,1)\n",
    "y = OD_oscillator(d, w0, x, x0, v0).view(-1,1)\n",
    "\n",
    "# slice out a small number of points \n",
    "#that will serve as training data\n",
    "x_data = x[0:10:5]\n",
    "y_data = y[0:10:5]\n",
    "\n",
    "plt.figure()\n",
    "plt.plot(x, y, label=\"Exact solution\")\n",
    "plt.scatter(x_data, y_data, color=\"tab:orange\", label=\"Training data\")\n",
    "plt.title(\"Generated training data\")\n",
    "plt.xlabel(\"x\")\n",
    "plt.ylabel(\"y\")\n",
    "plt.legend()\n",
    "plt.show()"
   ]
  },
  {
   "cell_type": "markdown",
   "id": "d68f4e47",
   "metadata": {},
   "source": [
    "#### FCN\n",
    "Fitting the FCN in the overdamped case:"
   ]
  },
  {
   "cell_type": "code",
   "execution_count": 15,
   "id": "b4db5a1e",
   "metadata": {},
   "outputs": [],
   "source": [
    "torch.manual_seed(123)\n",
    "model = FCN(1,1,15,3) # (n_in, n_out, n_hidden, n_layers)\n",
    "optimizer = torch.optim.Adam(model.parameters(),lr=1e-2)\n",
    "epochs = range(1, 501)\n",
    "losses = []\n",
    "files = []\n",
    "\n",
    "for epoch in epochs:\n",
    "    optimizer.zero_grad()\n",
    "    yh = model(x_data)\n",
    "    loss = torch.mean((yh-y_data)**2)# MSE\n",
    "    loss.backward()\n",
    "    optimizer.step()\n",
    "    losses.append(loss)\n",
    "        \n",
    "    # plot results during training\n",
    "    if (epoch) % 10 == 0: # every 10 epochs\n",
    "        \n",
    "        yh = model(x).detach()\n",
    "        \n",
    "        plot_result(epoch,x,y,x_data,y_data,yh)\n",
    "        \n",
    "        file = \"./PINNplots/\"+str(epoch)+\".png\"\n",
    "        plt.savefig(file, bbox_inches='tight', pad_inches=0.1, dpi=100, facecolor=\"white\")\n",
    "        files.append(file)\n",
    "        \n",
    "        #show plot every 500 epochs:\n",
    "        #if (epoch) % 500 == 0: plt.show() \n",
    "        #else: plt.close(\"all\")\n",
    "        plt.close(\"all\")    \n",
    "            \n",
    "save_gif_PIL(\"od_nn.gif\", files, fps=20, loop=0)"
   ]
  },
  {
   "cell_type": "markdown",
   "id": "df780a19",
   "metadata": {},
   "source": [
    "![SegmentLocal](od_nn.gif \"gif\")"
   ]
  },
  {
   "cell_type": "markdown",
   "id": "d6b38cfa",
   "metadata": {},
   "source": [
    "#### PINN\n",
    "Fitting the overdamped case data with a PINN:"
   ]
  },
  {
   "cell_type": "code",
   "execution_count": 16,
   "id": "30490ce8",
   "metadata": {},
   "outputs": [],
   "source": [
    "# sample 30 uniformly spaced points\n",
    "x_physics = torch.linspace(0,1,30).view(-1,1).requires_grad_(True)\n",
    "\n",
    "mu, k = 2*d, w0**2\n",
    "\n",
    "torch.manual_seed(123)\n",
    "model = FCN(1,1,9,3)\n",
    "epochs = range(1, 20001)\n",
    "losses = []\n",
    "losses_data = []\n",
    "losses_physics = []\n",
    "optimizer = torch.optim.Adam(model.parameters(),lr=1e-3)\n",
    "files = []"
   ]
  },
  {
   "cell_type": "code",
   "execution_count": 17,
   "id": "c36dfcbc",
   "metadata": {},
   "outputs": [],
   "source": [
    "for epoch in epochs:\n",
    "    optimizer.zero_grad()\n",
    "    \n",
    "    # Data loss\n",
    "    yh = model(x_data)\n",
    "    loss_data = torch.mean((yh-y_data)**2) # MSE\n",
    "    \n",
    "    # Physics loss\n",
    "    yh_physics = model(x_physics)\n",
    "    \n",
    "    # calculate first and second derivatives\n",
    "    # dy/dx\n",
    "    dx  = torch.autograd.grad(yh_physics, x_physics, torch.ones_like(yh_physics), create_graph=True)[0]\n",
    "    \n",
    "    # d^2y/dx^2\n",
    "    dx2 = torch.autograd.grad(dx, x_physics, torch.ones_like(dx), create_graph=True)[0]\n",
    "    \n",
    "    # computes the residual of the harmonic oscillator differential equation\n",
    "    physics = dx2 + mu*dx + k*yh_physics # from (1) (beltoforion.de)\n",
    "    loss_physics = (1e-5)*torch.mean(physics**2)\n",
    "    \n",
    "    # backpropagate joint loss\n",
    "    loss = loss_data + loss_physics # add two loss terms together\n",
    "    loss.backward()\n",
    "    optimizer.step()\n",
    "    losses.append(loss)\n",
    "    losses_data.append(loss_data)\n",
    "    losses_physics.append(loss_physics)\n",
    "    \n",
    "    \n",
    "    # plot the result as training progresses\n",
    "    if epoch % 150 == 0: \n",
    "        \n",
    "        yh = model(x).detach()\n",
    "        xp = x_physics.detach()\n",
    "        \n",
    "        plot_result(epoch,x,y,x_data,y_data,yh,xp)\n",
    "        \n",
    "        file = \"./PINNplots/\"+str(epoch)+\".png\"\n",
    "        plt.savefig(file, bbox_inches='tight', pad_inches=0.1, dpi=100, facecolor=\"white\")\n",
    "        files.append(file)\n",
    "        \n",
    "        #if epoch % 6000 == 0: plt.show()\n",
    "        #else: plt.close(\"all\")\n",
    "        plt.close(\"all\")\n",
    "            \n",
    "save_gif_PIL(\"od_pinn.gif\", files, fps=20, loop=0)"
   ]
  },
  {
   "cell_type": "markdown",
   "id": "c119e662",
   "metadata": {},
   "source": [
    "![SegmentLocal](od_pinn.gif \"gif\")"
   ]
  }
 ],
 "metadata": {
  "kernelspec": {
   "display_name": "Python 3 (ipykernel)",
   "language": "python",
   "name": "python3"
  },
  "language_info": {
   "codemirror_mode": {
    "name": "ipython",
    "version": 3
   },
   "file_extension": ".py",
   "mimetype": "text/x-python",
   "name": "python",
   "nbconvert_exporter": "python",
   "pygments_lexer": "ipython3",
   "version": "3.8.13"
  }
 },
 "nbformat": 4,
 "nbformat_minor": 5
}
